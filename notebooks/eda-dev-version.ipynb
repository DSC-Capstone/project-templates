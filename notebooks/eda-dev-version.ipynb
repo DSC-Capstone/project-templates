{
 "cells": [
  {
   "cell_type": "code",
   "execution_count": null,
   "metadata": {},
   "outputs": [],
   "source": [
    "%matplotlib inline\n",
    "import pandas as pd\n",
    "import matplotlib.pyplot as plt\n",
    "import seaborn as sns"
   ]
  },
  {
   "cell_type": "code",
   "execution_count": null,
   "metadata": {},
   "outputs": [],
   "source": [
    "# import data\n",
    "data = pd.read_csv('../data/raw/data.csv')"
   ]
  },
  {
   "cell_type": "markdown",
   "metadata": {},
   "source": [
    "**Purpose of this Notebook:** This is an example notebook for a semi-polished EDA meant primarily for development. Such a notebook follow these guidelines:\n",
    "* most computational heavy lifting is done in `run.py`. It shouldn't take more than 1-2 minutes to run code.\n",
    "    - if plotting code takes a long time, consider saving image files in scripts.\n",
    "* non-trivial code is used in the notebook, but it is still _simple_ and it still _runs fast_. Import functions from library code when possible.\n",
    "* There is markdown explaining what's done in each (series of) code cell(s). This serves as documentation for people wanting to understand the details of your work, as well as for you to later refactor and use in a report!"
   ]
  },
  {
   "cell_type": "markdown",
   "metadata": {},
   "source": [
    "# EDA"
   ]
  },
  {
   "cell_type": "markdown",
   "metadata": {},
   "source": [
    "All data together is bimodal, concentrated on the left-side of the distribution, with a long tail. It may be a combination of more than one distribution."
   ]
  },
  {
   "cell_type": "code",
   "execution_count": null,
   "metadata": {},
   "outputs": [],
   "source": [
    "ax = sns.distplot(pd.melt(data)['value'])\n",
    "plt.suptitle('total distribution of all variables');"
   ]
  },
  {
   "cell_type": "markdown",
   "metadata": {},
   "source": [
    "The observed data seems to consists of independent, normally distributed variables, most of which seem to be drawn from different distributions:"
   ]
  },
  {
   "cell_type": "code",
   "execution_count": null,
   "metadata": {},
   "outputs": [],
   "source": [
    "ax = pd.plotting.scatter_matrix(data)\n",
    "plt.suptitle('Independent Gaussians');"
   ]
  },
  {
   "cell_type": "markdown",
   "metadata": {},
   "source": [
    "The five distributions likely have different means and standard deviations (with the possible exception of $x_0$ and $x_1$). However, each looks gaussian."
   ]
  },
  {
   "cell_type": "code",
   "execution_count": null,
   "metadata": {},
   "outputs": [],
   "source": [
    "fig, axes = plt.subplots(1,2, figsize=(12,4))\n",
    "sns.violinplot(data=pd.melt(data), x='variable', y='value', ax=axes[0])\n",
    "axes[0].title.set_text('Violin plot of each variable') \n",
    "pd.melt(data).groupby('variable')['value'].plot(kind='kde', ax=axes[1])\n",
    "axes[1].title.set_text('distribution of each variable') \n",
    "plt.tight_layout();"
   ]
  },
  {
   "cell_type": "markdown",
   "metadata": {},
   "source": [
    "The mean and standard deviation for each variable is given in the table below:"
   ]
  },
  {
   "cell_type": "code",
   "execution_count": null,
   "metadata": {},
   "outputs": [],
   "source": [
    "pd.concat([data.mean().rename('means'), data.std().rename('standard deviations')], axis=1)"
   ]
  },
  {
   "cell_type": "markdown",
   "metadata": {},
   "source": [
    "Using the normality test of D'Agostino and Pearson, we see no evidence rejecting the normality of the variables:"
   ]
  },
  {
   "cell_type": "code",
   "execution_count": null,
   "metadata": {},
   "outputs": [],
   "source": [
    "from scipy.stats import normaltest\n",
    "\n",
    "data.apply(lambda x:pd.Series(normaltest(x), index=['skew-test + kurtosis-test', 'p-value'])).T"
   ]
  },
  {
   "cell_type": "markdown",
   "metadata": {},
   "source": [
    "We verify that $x_0$ and $x_1$ likely come from different distributions using a KS-test:"
   ]
  },
  {
   "cell_type": "code",
   "execution_count": null,
   "metadata": {},
   "outputs": [],
   "source": [
    "from scipy.stats import ks_2samp\n",
    "res = ks_2samp(data['x_0'], data['x_1'])\n",
    "\n",
    "print(pd.Series({'ks statistic': res.statistic, 'p-value': res.pvalue}).to_string())"
   ]
  }
 ],
 "metadata": {
  "kernelspec": {
   "display_name": "Python 3",
   "language": "python",
   "name": "python3"
  },
  "language_info": {
   "codemirror_mode": {
    "name": "ipython",
    "version": 3
   },
   "file_extension": ".py",
   "mimetype": "text/x-python",
   "name": "python",
   "nbconvert_exporter": "python",
   "pygments_lexer": "ipython3",
   "version": "3.8.3"
  }
 },
 "nbformat": 4,
 "nbformat_minor": 4
}
